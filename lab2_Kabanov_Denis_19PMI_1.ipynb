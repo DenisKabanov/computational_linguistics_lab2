{
 "cells": [
  {
   "cell_type": "code",
   "execution_count": 303,
   "id": "c2e85441",
   "metadata": {},
   "outputs": [],
   "source": [
    "import json\n",
    "import re\n",
    "import string\n",
    "import pymorphy2\n",
    "import stop_words\n",
    "import pandas as pd\n",
    "import numpy as np\n",
    "import matplotlib.pyplot as plt\n",
    "from nltk.stem.snowball import RussianStemmer\n",
    "from sklearn import metrics\n",
    "from sklearn.feature_extraction.text import TfidfVectorizer\n",
    "from sklearn.model_selection import train_test_split\n",
    "from sklearn.model_selection import GridSearchCV\n",
    "# модели\n",
    "from sklearn.neighbors import KNeighborsClassifier\n",
    "from sklearn.linear_model import SGDClassifier"
   ]
  },
  {
   "cell_type": "code",
   "execution_count": 228,
   "id": "29e58a5c",
   "metadata": {},
   "outputs": [],
   "source": [
    "# настраиваемые параметры\n",
    "article_filename = \"articles.json\" # путь до файла с полным сохранением статей\n",
    "vectorized_filename = \"vectorized_train.npy\"\n",
    "categories = [\"entertainment\", \"auto\", \"sport\", \"health\"]"
   ]
  },
  {
   "cell_type": "code",
   "execution_count": 8,
   "id": "6a68333f",
   "metadata": {},
   "outputs": [
    {
     "data": {
      "text/html": [
       "<div>\n",
       "<style scoped>\n",
       "    .dataframe tbody tr th:only-of-type {\n",
       "        vertical-align: middle;\n",
       "    }\n",
       "\n",
       "    .dataframe tbody tr th {\n",
       "        vertical-align: top;\n",
       "    }\n",
       "\n",
       "    .dataframe thead th {\n",
       "        text-align: right;\n",
       "    }\n",
       "</style>\n",
       "<table border=\"1\" class=\"dataframe\">\n",
       "  <thead>\n",
       "    <tr style=\"text-align: right;\">\n",
       "      <th></th>\n",
       "      <th>article_id</th>\n",
       "      <th>title</th>\n",
       "      <th>category</th>\n",
       "      <th>tags</th>\n",
       "      <th>text</th>\n",
       "    </tr>\n",
       "  </thead>\n",
       "  <tbody>\n",
       "    <tr>\n",
       "      <th>0</th>\n",
       "      <td>https://www.nn.ru/text/entertainment/2023/01/1...</td>\n",
       "      <td>Кто такой цуцик и где раки зимуют? Попробуйте ...</td>\n",
       "      <td>entertainment</td>\n",
       "      <td>Развлечения,Знания,История,Развлечения,Тест,Фр...</td>\n",
       "      <td>Если бы не было фразеологизмов, наша речь (а в...</td>\n",
       "    </tr>\n",
       "    <tr>\n",
       "      <th>1</th>\n",
       "      <td>https://www.nn.ru/text/entertainment/2023/01/1...</td>\n",
       "      <td>Снова как мальчик: Филипп Киркоров резко помол...</td>\n",
       "      <td>entertainment</td>\n",
       "      <td>Развлечения,Филипп Киркоров,Звезды,Шоу-бизнес</td>\n",
       "      <td>Редко кто может похвастаться тем, что после ка...</td>\n",
       "    </tr>\n",
       "    <tr>\n",
       "      <th>2</th>\n",
       "      <td>https://www.nn.ru/text/entertainment/2023/01/1...</td>\n",
       "      <td>2023 — это колесница: каким будет год Черного ...</td>\n",
       "      <td>entertainment</td>\n",
       "      <td>Развлечения,Гороскоп,Нумеролог,Прогноз нумерол...</td>\n",
       "      <td>Если присмотреться внимательнее, то можно обна...</td>\n",
       "    </tr>\n",
       "    <tr>\n",
       "      <th>3</th>\n",
       "      <td>https://www.nn.ru/text/entertainment/2023/01/1...</td>\n",
       "      <td>Вам не решить: 10 советских задач в картинках ...</td>\n",
       "      <td>entertainment</td>\n",
       "      <td>Развлечения,СССР,Интересный тест,Тест,Внимание...</td>\n",
       "      <td>Ставить опыты над возможностями человеческих п...</td>\n",
       "    </tr>\n",
       "    <tr>\n",
       "      <th>4</th>\n",
       "      <td>https://www.nn.ru/text/entertainment/2023/01/1...</td>\n",
       "      <td>Не только «Ёлки-9»: что больше всего приглянул...</td>\n",
       "      <td>entertainment</td>\n",
       "      <td>Развлечения</td>\n",
       "      <td>Wink представляет самые популярные фильмы и се...</td>\n",
       "    </tr>\n",
       "  </tbody>\n",
       "</table>\n",
       "</div>"
      ],
      "text/plain": [
       "                                          article_id  \\\n",
       "0  https://www.nn.ru/text/entertainment/2023/01/1...   \n",
       "1  https://www.nn.ru/text/entertainment/2023/01/1...   \n",
       "2  https://www.nn.ru/text/entertainment/2023/01/1...   \n",
       "3  https://www.nn.ru/text/entertainment/2023/01/1...   \n",
       "4  https://www.nn.ru/text/entertainment/2023/01/1...   \n",
       "\n",
       "                                               title       category  \\\n",
       "0  Кто такой цуцик и где раки зимуют? Попробуйте ...  entertainment   \n",
       "1  Снова как мальчик: Филипп Киркоров резко помол...  entertainment   \n",
       "2  2023 — это колесница: каким будет год Черного ...  entertainment   \n",
       "3  Вам не решить: 10 советских задач в картинках ...  entertainment   \n",
       "4  Не только «Ёлки-9»: что больше всего приглянул...  entertainment   \n",
       "\n",
       "                                                tags  \\\n",
       "0  Развлечения,Знания,История,Развлечения,Тест,Фр...   \n",
       "1      Развлечения,Филипп Киркоров,Звезды,Шоу-бизнес   \n",
       "2  Развлечения,Гороскоп,Нумеролог,Прогноз нумерол...   \n",
       "3  Развлечения,СССР,Интересный тест,Тест,Внимание...   \n",
       "4                                        Развлечения   \n",
       "\n",
       "                                                text  \n",
       "0  Если бы не было фразеологизмов, наша речь (а в...  \n",
       "1  Редко кто может похвастаться тем, что после ка...  \n",
       "2  Если присмотреться внимательнее, то можно обна...  \n",
       "3  Ставить опыты над возможностями человеческих п...  \n",
       "4  Wink представляет самые популярные фильмы и се...  "
      ]
     },
     "execution_count": 8,
     "metadata": {},
     "output_type": "execute_result"
    }
   ],
   "source": [
    "news = []\n",
    "with open(article_filename, encoding=\"utf-8\") as file:\n",
    "    for line in file:\n",
    "        news.append(json.loads(line))\n",
    "data = pd.DataFrame(news)\n",
    "data.head()"
   ]
  },
  {
   "cell_type": "code",
   "execution_count": 138,
   "id": "11ac0b89",
   "metadata": {},
   "outputs": [
    {
     "data": {
      "text/plain": [
       "(4057, 5)"
      ]
     },
     "execution_count": 138,
     "metadata": {},
     "output_type": "execute_result"
    }
   ],
   "source": [
    "data.shape"
   ]
  },
  {
   "cell_type": "markdown",
   "id": "a173ab90",
   "metadata": {},
   "source": [
    "# 1. Предобработка собранного корпуса (датасет новостей): удаление знаков препинания и лишних символов, токенизация, приведение к нормальной форме, удаление стоп-слов."
   ]
  },
  {
   "cell_type": "markdown",
   "id": "5118ea38",
   "metadata": {},
   "source": [
    "### Преобразование текста"
   ]
  },
  {
   "cell_type": "code",
   "execution_count": 121,
   "id": "00bd69d0",
   "metadata": {},
   "outputs": [],
   "source": [
    "EXCLUDE_SYMBOLS_STR = u''.join(['№', '«', 'ђ', '°', '±', '‚', 'ћ', '‰', '…', '»', 'ѓ', 'µ', '·', 'ґ', 'њ', 'ї', 'џ', 'є', '‹',\n",
    "                                '‡', '†', '¶', 'ќ', '€', '“', 'ў', '§', '„', '”', '\\ufeff', '’', 'љ', '›', '•', '—', '‘', \n",
    "                                '\\x7f', '\\xad', '¤', '\\xa0', '\\u200e'])"
   ]
  },
  {
   "cell_type": "code",
   "execution_count": 127,
   "id": "7f1f3e07",
   "metadata": {},
   "outputs": [],
   "source": [
    "corpus = [re.sub(r'\\w+:\\/{2}[\\d\\w-]+(\\.[\\d\\w-]+)*(?:(?:\\/[^\\s/]*))*', '', text) for text in data[\"text\"]] # удаление ссылок\n",
    "corpus = [text.lower() for text in corpus] # приведение к нижнему регистру\n",
    "corpus = [re.sub(r'[\\d\\w-]{1,}\\.(ru|com|ua)' , '', text) for text in corpus] # удаление неполных ссылок\n",
    "# в статьях нет \\n или \\t\n",
    "\n",
    "regex_punct = re.compile('[%s]' % re.escape(string.punctuation))\n",
    "corpus = [regex_punct.sub('', text) for text in corpus] # убираем пунктуацию\n",
    "\n",
    "regex_dig = re.compile('[%s]' % re.escape(string.digits))\n",
    "corpus = [regex_dig.sub('', text) for text in corpus] # убираем цифры\n",
    "\n",
    "regex_symb = re.compile('[%s]' % re.escape(EXCLUDE_SYMBOLS_STR))\n",
    "corpus = [regex_symb.sub(' ', text) for text in corpus] # убираем дополнительные символы\n",
    "\n",
    "corpus = [re.sub(' +' , ' ', text) for text in corpus] # оставляем максимум 1 пробел\n",
    "corpus = [text.strip() for text in corpus] # удаляем лишние пробелы в начале и конце статей"
   ]
  },
  {
   "cell_type": "markdown",
   "id": "97f029a5",
   "metadata": {},
   "source": [
    "### Токенизация и пропуск стоп-слов"
   ]
  },
  {
   "cell_type": "code",
   "execution_count": 132,
   "id": "c53e62b3",
   "metadata": {},
   "outputs": [],
   "source": [
    "morph = pymorphy2.MorphAnalyzer()"
   ]
  },
  {
   "cell_type": "code",
   "execution_count": 135,
   "id": "37287103",
   "metadata": {},
   "outputs": [
    {
     "name": "stdout",
     "output_type": "stream",
     "text": [
      "4057 0\n"
     ]
    }
   ],
   "source": [
    "corpus_tokens = [] # для токенов из строк\n",
    "inds_to_drop = [] # статьи, что будут убраны\n",
    "\n",
    "for i, sentence in enumerate(corpus):\n",
    "    tmp_tokens = [] # временный массив с токенами\n",
    "    sp = sentence.split() # разделяем строку по пробелам\n",
    "    for word in sp: # проходим по словам в строке\n",
    "        if word not in stop_words.get_stop_words('ru'): # если слова нет в списке стоп-слов для русского языка\n",
    "            if morph.word_is_known(word): # проверяет, что слово есть в словаре\n",
    "                tmp_tokens.append(word) # добавляем токен\n",
    "    if len(tmp_tokens) > 0: # если после попытки токенизации строки получилось хоть сколько-то токенов, то записываем их в corpus_tokens\n",
    "        corpus_tokens.append(tmp_tokens)\n",
    "    else: # иначе - добавляем строку в дропы\n",
    "        inds_to_drop.append(i)\n",
    "        \n",
    "print(len(corpus_tokens), len(inds_to_drop)) # в данном случае, все статьи были токенизированы"
   ]
  },
  {
   "cell_type": "markdown",
   "id": "1fafb7e8",
   "metadata": {},
   "source": [
    "### Приведение к нормальной форме"
   ]
  },
  {
   "cell_type": "code",
   "execution_count": 153,
   "id": "70fac52b",
   "metadata": {},
   "outputs": [],
   "source": [
    "stemmer = RussianStemmer() # стеммер для нахождения основы слова"
   ]
  },
  {
   "cell_type": "code",
   "execution_count": 182,
   "id": "b16a4a29",
   "metadata": {},
   "outputs": [
    {
     "name": "stderr",
     "output_type": "stream",
     "text": [
      "C:\\Users\\User\\Documents\\TEMP\\ipykernel_50604\\1241036772.py:6: VisibleDeprecationWarning: Creating an ndarray from ragged nested sequences (which is a list-or-tuple of lists-or-tuples-or ndarrays with different lengths or shapes) is deprecated. If you meant to do this, you must specify 'dtype=object' when creating the ndarray.\n",
      "  corpus_tokens_stem = np.asarray(corpus_tokens_stem)\n"
     ]
    }
   ],
   "source": [
    "corpus_tokens_stem = []\n",
    "\n",
    "for i, tokens in enumerate(corpus_tokens):\n",
    "    tmp = [stemmer.stem(word) for word in tokens] # проходимся стеммером по всем токенам для получения основы слова-токена\n",
    "    corpus_tokens_stem.append(tmp)\n",
    "corpus_tokens_stem = np.asarray(corpus_tokens_stem)"
   ]
  },
  {
   "cell_type": "markdown",
   "id": "5ba812bb",
   "metadata": {},
   "source": [
    "Частота встречи различного числа основ (токенов)"
   ]
  },
  {
   "cell_type": "code",
   "execution_count": 183,
   "id": "37dfa88b",
   "metadata": {},
   "outputs": [
    {
     "name": "stdout",
     "output_type": "stream",
     "text": [
      "10\n"
     ]
    }
   ],
   "source": [
    "diffs = np.asarray([len(tokens) for tokens in corpus_tokens_stem]) # массив числа основ токенов, оставшихся в статьях\n",
    "print(diffs.min()) # минимум основ (нормализованных токенов) = 10"
   ]
  },
  {
   "cell_type": "code",
   "execution_count": 184,
   "id": "9ddd8c08",
   "metadata": {},
   "outputs": [
    {
     "data": {
      "image/png": "[encoded data removed]",
      "text/plain": [
       "<Figure size 1440x720 with 1 Axes>"
      ]
     },
     "metadata": {
      "needs_background": "light"
     },
     "output_type": "display_data"
    }
   ],
   "source": [
    "plt.figure(figsize=(20, 10))\n",
    "plt.hist(diffs, bins=200)\n",
    "plt.grid(True)"
   ]
  },
  {
   "cell_type": "markdown",
   "id": "8d869403",
   "metadata": {},
   "source": [
    "Число встреченных основ (словарь)"
   ]
  },
  {
   "cell_type": "code",
   "execution_count": 190,
   "id": "fbfc980e",
   "metadata": {},
   "outputs": [
    {
     "name": "stdout",
     "output_type": "stream",
     "text": [
      "37108\n"
     ]
    }
   ],
   "source": [
    "vocab = np.unique(np.concatenate(corpus_tokens_stem).flatten()).tolist()\n",
    "print(len(vocab))"
   ]
  },
  {
   "cell_type": "markdown",
   "id": "d76155be",
   "metadata": {},
   "source": [
    "Сбор датасета"
   ]
  },
  {
   "cell_type": "code",
   "execution_count": 420,
   "id": "d96b7d79",
   "metadata": {},
   "outputs": [],
   "source": [
    "dataset = []\n",
    "for i in range(len(corpus_tokens_stem)):\n",
    "    dataset.append([' '.join(corpus_tokens_stem[i]), data[\"category\"][i]])\n",
    "dataset = pd.DataFrame(dataset, columns=[\"text\", \"category\"])"
   ]
  },
  {
   "cell_type": "code",
   "execution_count": 390,
   "id": "ec6b8da2",
   "metadata": {},
   "outputs": [
    {
     "data": {
      "text/html": [
       "<div>\n",
       "<style scoped>\n",
       "    .dataframe tbody tr th:only-of-type {\n",
       "        vertical-align: middle;\n",
       "    }\n",
       "\n",
       "    .dataframe tbody tr th {\n",
       "        vertical-align: top;\n",
       "    }\n",
       "\n",
       "    .dataframe thead th {\n",
       "        text-align: right;\n",
       "    }\n",
       "</style>\n",
       "<table border=\"1\" class=\"dataframe\">\n",
       "  <thead>\n",
       "    <tr style=\"text-align: right;\">\n",
       "      <th></th>\n",
       "      <th>text</th>\n",
       "      <th>category</th>\n",
       "    </tr>\n",
       "  </thead>\n",
       "  <tbody>\n",
       "    <tr>\n",
       "      <th>0</th>\n",
       "      <td>фразеологизм реч возможн скучн интересн пользо...</td>\n",
       "      <td>entertainment</td>\n",
       "    </tr>\n",
       "    <tr>\n",
       "      <th>1</th>\n",
       "      <td>редк похваста каникул набра лишн килограмм зар...</td>\n",
       "      <td>entertainment</td>\n",
       "    </tr>\n",
       "    <tr>\n",
       "      <th>2</th>\n",
       "      <td>присмотрет внимательн обнаруж повсюд окружа ци...</td>\n",
       "      <td>entertainment</td>\n",
       "    </tr>\n",
       "    <tr>\n",
       "      <th>3</th>\n",
       "      <td>став опыт возможн человеческ познан придума по...</td>\n",
       "      <td>entertainment</td>\n",
       "    </tr>\n",
       "    <tr>\n",
       "      <th>4</th>\n",
       "      <td>представля сам популярн фильм сериал смотрел н...</td>\n",
       "      <td>entertainment</td>\n",
       "    </tr>\n",
       "    <tr>\n",
       "      <th>...</th>\n",
       "      <td>...</td>\n",
       "      <td>...</td>\n",
       "    </tr>\n",
       "    <tr>\n",
       "      <th>4052</th>\n",
       "      <td>перв новост появ полутор мир охват пандем мног...</td>\n",
       "      <td>health</td>\n",
       "    </tr>\n",
       "    <tr>\n",
       "      <th>4053</th>\n",
       "      <td>официальн представител кремл дмитр песк проком...</td>\n",
       "      <td>health</td>\n",
       "    </tr>\n",
       "    <tr>\n",
       "      <th>4054</th>\n",
       "      <td>успел росс отойт трет волн коронавирус пришл ч...</td>\n",
       "      <td>health</td>\n",
       "    </tr>\n",
       "    <tr>\n",
       "      <th>4055</th>\n",
       "      <td>летн екатеринбуржец евген реш подел истор проч...</td>\n",
       "      <td>health</td>\n",
       "    </tr>\n",
       "    <tr>\n",
       "      <th>4056</th>\n",
       "      <td>октябр отправл космическ станц актрис юл режис...</td>\n",
       "      <td>health</td>\n",
       "    </tr>\n",
       "  </tbody>\n",
       "</table>\n",
       "<p>4057 rows × 2 columns</p>\n",
       "</div>"
      ],
      "text/plain": [
       "                                                   text       category\n",
       "0     фразеологизм реч возможн скучн интересн пользо...  entertainment\n",
       "1     редк похваста каникул набра лишн килограмм зар...  entertainment\n",
       "2     присмотрет внимательн обнаруж повсюд окружа ци...  entertainment\n",
       "3     став опыт возможн человеческ познан придума по...  entertainment\n",
       "4     представля сам популярн фильм сериал смотрел н...  entertainment\n",
       "...                                                 ...            ...\n",
       "4052  перв новост появ полутор мир охват пандем мног...         health\n",
       "4053  официальн представител кремл дмитр песк проком...         health\n",
       "4054  успел росс отойт трет волн коронавирус пришл ч...         health\n",
       "4055  летн екатеринбуржец евген реш подел истор проч...         health\n",
       "4056  октябр отправл космическ станц актрис юл режис...         health\n",
       "\n",
       "[4057 rows x 2 columns]"
      ]
     },
     "execution_count": 390,
     "metadata": {},
     "output_type": "execute_result"
    }
   ],
   "source": [
    "dataset"
   ]
  },
  {
   "cell_type": "markdown",
   "id": "7e4135b5",
   "metadata": {},
   "source": [
    "# 2. Векторизация текста"
   ]
  },
  {
   "cell_type": "markdown",
   "id": "f3a6aaf1",
   "metadata": {},
   "source": [
    "Разбиение на тренировочную/тестовую выборку"
   ]
  },
  {
   "cell_type": "code",
   "execution_count": 424,
   "id": "d9949a5e",
   "metadata": {},
   "outputs": [
    {
     "name": "stdout",
     "output_type": "stream",
     "text": [
      "3651 406\n"
     ]
    }
   ],
   "source": [
    "data_train, data_test = train_test_split(dataset, test_size=0.1)\n",
    "print(len(data_train), len(data_test))"
   ]
  },
  {
   "cell_type": "code",
   "execution_count": 425,
   "id": "e639dabe",
   "metadata": {},
   "outputs": [
    {
     "data": {
      "text/plain": [
       "auto             923\n",
       "sport            921\n",
       "health           915\n",
       "entertainment    892\n",
       "Name: category, dtype: int64"
      ]
     },
     "execution_count": 425,
     "metadata": {},
     "output_type": "execute_result"
    }
   ],
   "source": [
    "data_train.category.value_counts()"
   ]
  },
  {
   "cell_type": "code",
   "execution_count": 391,
   "id": "99290f66",
   "metadata": {},
   "outputs": [
    {
     "data": {
      "text/html": [
       "<style>#sk-container-id-10 {color: black;background-color: white;}#sk-container-id-10 pre{padding: 0;}#sk-container-id-10 div.sk-toggleable {background-color: white;}#sk-container-id-10 label.sk-toggleable__label {cursor: pointer;display: block;width: 100%;margin-bottom: 0;padding: 0.3em;box-sizing: border-box;text-align: center;}#sk-container-id-10 label.sk-toggleable__label-arrow:before {content: \"▸\";float: left;margin-right: 0.25em;color: #696969;}#sk-container-id-10 label.sk-toggleable__label-arrow:hover:before {color: black;}#sk-container-id-10 div.sk-estimator:hover label.sk-toggleable__label-arrow:before {color: black;}#sk-container-id-10 div.sk-toggleable__content {max-height: 0;max-width: 0;overflow: hidden;text-align: left;background-color: #f0f8ff;}#sk-container-id-10 div.sk-toggleable__content pre {margin: 0.2em;color: black;border-radius: 0.25em;background-color: #f0f8ff;}#sk-container-id-10 input.sk-toggleable__control:checked~div.sk-toggleable__content {max-height: 200px;max-width: 100%;overflow: auto;}#sk-container-id-10 input.sk-toggleable__control:checked~label.sk-toggleable__label-arrow:before {content: \"▾\";}#sk-container-id-10 div.sk-estimator input.sk-toggleable__control:checked~label.sk-toggleable__label {background-color: #d4ebff;}#sk-container-id-10 div.sk-label input.sk-toggleable__control:checked~label.sk-toggleable__label {background-color: #d4ebff;}#sk-container-id-10 input.sk-hidden--visually {border: 0;clip: rect(1px 1px 1px 1px);clip: rect(1px, 1px, 1px, 1px);height: 1px;margin: -1px;overflow: hidden;padding: 0;position: absolute;width: 1px;}#sk-container-id-10 div.sk-estimator {font-family: monospace;background-color: #f0f8ff;border: 1px dotted black;border-radius: 0.25em;box-sizing: border-box;margin-bottom: 0.5em;}#sk-container-id-10 div.sk-estimator:hover {background-color: #d4ebff;}#sk-container-id-10 div.sk-parallel-item::after {content: \"\";width: 100%;border-bottom: 1px solid gray;flex-grow: 1;}#sk-container-id-10 div.sk-label:hover label.sk-toggleable__label {background-color: #d4ebff;}#sk-container-id-10 div.sk-serial::before {content: \"\";position: absolute;border-left: 1px solid gray;box-sizing: border-box;top: 0;bottom: 0;left: 50%;z-index: 0;}#sk-container-id-10 div.sk-serial {display: flex;flex-direction: column;align-items: center;background-color: white;padding-right: 0.2em;padding-left: 0.2em;position: relative;}#sk-container-id-10 div.sk-item {position: relative;z-index: 1;}#sk-container-id-10 div.sk-parallel {display: flex;align-items: stretch;justify-content: center;background-color: white;position: relative;}#sk-container-id-10 div.sk-item::before, #sk-container-id-10 div.sk-parallel-item::before {content: \"\";position: absolute;border-left: 1px solid gray;box-sizing: border-box;top: 0;bottom: 0;left: 50%;z-index: -1;}#sk-container-id-10 div.sk-parallel-item {display: flex;flex-direction: column;z-index: 1;position: relative;background-color: white;}#sk-container-id-10 div.sk-parallel-item:first-child::after {align-self: flex-end;width: 50%;}#sk-container-id-10 div.sk-parallel-item:last-child::after {align-self: flex-start;width: 50%;}#sk-container-id-10 div.sk-parallel-item:only-child::after {width: 0;}#sk-container-id-10 div.sk-dashed-wrapped {border: 1px dashed gray;margin: 0 0.4em 0.5em 0.4em;box-sizing: border-box;padding-bottom: 0.4em;background-color: white;}#sk-container-id-10 div.sk-label label {font-family: monospace;font-weight: bold;display: inline-block;line-height: 1.2em;}#sk-container-id-10 div.sk-label-container {text-align: center;}#sk-container-id-10 div.sk-container {/* jupyter's `normalize.less` sets `[hidden] { display: none; }` but bootstrap.min.css set `[hidden] { display: none !important; }` so we also need the `!important` here to be able to override the default hidden behavior on the sphinx rendered scikit-learn.org. See: https://github.com/scikit-learn/scikit-learn/issues/21755 */display: inline-block !important;position: relative;}#sk-container-id-10 div.sk-text-repr-fallback {display: none;}</style><div id=\"sk-container-id-10\" class=\"sk-top-container\"><div class=\"sk-text-repr-fallback\"><pre>TfidfVectorizer(vocabulary=[&#x27;а&#x27;, &#x27;аа&#x27;, &#x27;аарон&#x27;, &#x27;аб&#x27;, &#x27;абабковск&#x27;, &#x27;абажур&#x27;,\n",
       "                            &#x27;абаз&#x27;, &#x27;абаим&#x27;, &#x27;абака&#x27;, &#x27;абакан&#x27;, &#x27;абакум&#x27;,\n",
       "                            &#x27;абакумов&#x27;, &#x27;абандон&#x27;, &#x27;абашкин&#x27;, &#x27;аббатств&#x27;,\n",
       "                            &#x27;аббревиатур&#x27;, &#x27;абд&#x27;, &#x27;абдалл&#x27;, &#x27;абдельазиз&#x27;,\n",
       "                            &#x27;абдом&#x27;, &#x27;абдоминальн&#x27;, &#x27;абдрахманов&#x27;, &#x27;абдряхим&#x27;,\n",
       "                            &#x27;абдул&#x27;, &#x27;абдула&#x27;, &#x27;абдулаев&#x27;, &#x27;абдулкерим&#x27;,\n",
       "                            &#x27;абдулл&#x27;, &#x27;абдулмажид&#x27;, &#x27;абдулмеджид&#x27;, ...])</pre><b>In a Jupyter environment, please rerun this cell to show the HTML representation or trust the notebook. <br />On GitHub, the HTML representation is unable to render, please try loading this page with nbviewer.org.</b></div><div class=\"sk-container\" hidden><div class=\"sk-item\"><div class=\"sk-estimator sk-toggleable\"><input class=\"sk-toggleable__control sk-hidden--visually\" id=\"sk-estimator-id-10\" type=\"checkbox\" checked><label for=\"sk-estimator-id-10\" class=\"sk-toggleable__label sk-toggleable__label-arrow\">TfidfVectorizer</label><div class=\"sk-toggleable__content\"><pre>TfidfVectorizer(vocabulary=[&#x27;а&#x27;, &#x27;аа&#x27;, &#x27;аарон&#x27;, &#x27;аб&#x27;, &#x27;абабковск&#x27;, &#x27;абажур&#x27;,\n",
       "                            &#x27;абаз&#x27;, &#x27;абаим&#x27;, &#x27;абака&#x27;, &#x27;абакан&#x27;, &#x27;абакум&#x27;,\n",
       "                            &#x27;абакумов&#x27;, &#x27;абандон&#x27;, &#x27;абашкин&#x27;, &#x27;аббатств&#x27;,\n",
       "                            &#x27;аббревиатур&#x27;, &#x27;абд&#x27;, &#x27;абдалл&#x27;, &#x27;абдельазиз&#x27;,\n",
       "                            &#x27;абдом&#x27;, &#x27;абдоминальн&#x27;, &#x27;абдрахманов&#x27;, &#x27;абдряхим&#x27;,\n",
       "                            &#x27;абдул&#x27;, &#x27;абдула&#x27;, &#x27;абдулаев&#x27;, &#x27;абдулкерим&#x27;,\n",
       "                            &#x27;абдулл&#x27;, &#x27;абдулмажид&#x27;, &#x27;абдулмеджид&#x27;, ...])</pre></div></div></div></div></div>"
      ],
      "text/plain": [
       "TfidfVectorizer(vocabulary=['а', 'аа', 'аарон', 'аб', 'абабковск', 'абажур',\n",
       "                            'абаз', 'абаим', 'абака', 'абакан', 'абакум',\n",
       "                            'абакумов', 'абандон', 'абашкин', 'аббатств',\n",
       "                            'аббревиатур', 'абд', 'абдалл', 'абдельазиз',\n",
       "                            'абдом', 'абдоминальн', 'абдрахманов', 'абдряхим',\n",
       "                            'абдул', 'абдула', 'абдулаев', 'абдулкерим',\n",
       "                            'абдулл', 'абдулмажид', 'абдулмеджид', ...])"
      ]
     },
     "execution_count": 391,
     "metadata": {},
     "output_type": "execute_result"
    }
   ],
   "source": [
    "vectorizer = TfidfVectorizer(vocabulary=vocab)\n",
    "vectorizer.fit(dataset)"
   ]
  },
  {
   "cell_type": "code",
   "execution_count": 431,
   "id": "1236ebae",
   "metadata": {},
   "outputs": [],
   "source": [
    "data_train_vect = vectorizer.transform(data_train[\"text\"])\n",
    "data_train_cat = data_train[\"category\"]\n",
    "data_test_vect = vectorizer.transform(data_test[\"text\"])\n",
    "data_test_cat = data_test[\"category\"]"
   ]
  },
  {
   "cell_type": "markdown",
   "id": "030f955f",
   "metadata": {},
   "source": [
    "# 3. Классификация категорий собственного новостного корпуса с помощью моделей классического машинного обучения."
   ]
  },
  {
   "cell_type": "markdown",
   "id": "10c7179a",
   "metadata": {},
   "source": [
    "Использование моделей для предсказания:"
   ]
  },
  {
   "cell_type": "markdown",
   "id": "739f69e0",
   "metadata": {},
   "source": [
    "1) модель KNN (K-Nearest Neighbors — K Ближайших Соседей)"
   ]
  },
  {
   "cell_type": "code",
   "execution_count": 448,
   "id": "3d73e9ee",
   "metadata": {},
   "outputs": [
    {
     "name": "stdout",
     "output_type": "stream",
     "text": [
      "Fitting 5 folds for each of 16 candidates, totalling 80 fits\n",
      "               precision    recall  f1-score   support\n",
      "\n",
      "         auto       0.94      0.96      0.95        95\n",
      "entertainment       0.95      0.81      0.88       108\n",
      "       health       0.92      0.97      0.94       106\n",
      "        sport       0.90      0.97      0.94        97\n",
      "\n",
      "     accuracy                           0.93       406\n",
      "    macro avg       0.93      0.93      0.93       406\n",
      " weighted avg       0.93      0.93      0.92       406\n",
      "\n"
     ]
    }
   ],
   "source": [
    "parameters_knn = { # параметры для KNN модели\n",
    "    \"n_neighbors\": [3, 5, 10, 15],\n",
    "    \"weights\": [\"uniform\", \"distance\"],\n",
    "    \"metric\": [\"minkowski\", \"manhattan\"]\n",
    "}\n",
    "\n",
    "gs_knn = GridSearchCV( # параметры GridSearchCV\n",
    "    KNeighborsClassifier(),\n",
    "    parameters_knn,\n",
    "    verbose = 1,\n",
    "    cv=5,\n",
    "    n_jobs=-1\n",
    ")\n",
    "\n",
    "gs_knn_res = gs_knn.fit(data_train_vect, data_train_cat) # подбираем лучшие параметры для оценщика\n",
    "pred_knn = gs_knn_res.best_estimator_.predict(data_test_vect) # предсказываем\n",
    "print(metrics.classification_report(data_test_cat, pred_knn)) # выписываем основные метрики"
   ]
  },
  {
   "cell_type": "markdown",
   "id": "4973f95f",
   "metadata": {},
   "source": [
    "2) модель SGD (Stochastic Gradient Descent — Стохастический Градиентный Спуск)"
   ]
  },
  {
   "cell_type": "code",
   "execution_count": 450,
   "id": "ed0894fc",
   "metadata": {},
   "outputs": [
    {
     "name": "stdout",
     "output_type": "stream",
     "text": [
      "Fitting 5 folds for each of 432 candidates, totalling 2160 fits\n",
      "               precision    recall  f1-score   support\n",
      "\n",
      "         auto       1.00      0.97      0.98        95\n",
      "entertainment       0.96      0.94      0.95       108\n",
      "       health       0.96      0.97      0.97       106\n",
      "        sport       0.95      0.99      0.97        97\n",
      "\n",
      "     accuracy                           0.97       406\n",
      "    macro avg       0.97      0.97      0.97       406\n",
      " weighted avg       0.97      0.97      0.97       406\n",
      "\n"
     ]
    }
   ],
   "source": [
    "parameters_sgd = {\n",
    "    \"penalty\": [\"elasticnet\", \"l2\", \"l1\"],\n",
    "    \"alpha\": [0.0001, 0.01, 0.1, 0.5, 1, 5],\n",
    "    \"max_iter\": [100, 500, 1000, 2000],\n",
    "    \"learning_rate\": [\"optimal\", \"invscaling\", \"adaptive\"],\n",
    "    \"eta0\": [1, 10]\n",
    "}\n",
    "\n",
    "gs_sgd = GridSearchCV(\n",
    "    SGDClassifier(),\n",
    "    parameters_sgd,\n",
    "    verbose = 1,\n",
    "    cv=5,\n",
    "    n_jobs=-1\n",
    ")\n",
    "\n",
    "gs_sgd_res = gs_sgd.fit(data_train_vect, data_train_cat)\n",
    "pred_sgd = gs_sgd_res.best_estimator_.predict(data_test_vect)\n",
    "print(metrics.classification_report(data_test_cat, pred_sgd))"
   ]
  },
  {
   "cell_type": "markdown",
   "id": "2d35e3af",
   "metadata": {},
   "source": [
    "4. Анализ полученных результатов. Сравнение метрики качества, визуализация, выводы."
   ]
  },
  {
   "cell_type": "code",
   "execution_count": 444,
   "id": "2d3af8bf",
   "metadata": {},
   "outputs": [
    {
     "data": {
      "text/plain": [
       "{'metric': 'minkowski', 'n_neighbors': 3, 'weights': 'distance'}"
      ]
     },
     "execution_count": 444,
     "metadata": {},
     "output_type": "execute_result"
    }
   ],
   "source": [
    "gs_knn_res.best_params_"
   ]
  },
  {
   "cell_type": "code",
   "execution_count": 446,
   "id": "4dc3012b",
   "metadata": {},
   "outputs": [
    {
     "data": {
      "text/plain": [
       "0.9405614377002793"
      ]
     },
     "execution_count": 446,
     "metadata": {},
     "output_type": "execute_result"
    }
   ],
   "source": [
    "gs_knn_res.best_score_"
   ]
  },
  {
   "cell_type": "code",
   "execution_count": null,
   "id": "3dbfcd8e",
   "metadata": {},
   "outputs": [],
   "source": [
    "+ матрица самых важных слов для классификаторов"
   ]
  }
 ],
 "metadata": {
  "kernelspec": {
   "display_name": "Python 3 (ipykernel)",
   "language": "python",
   "name": "python3"
  },
  "language_info": {
   "codemirror_mode": {
    "name": "ipython",
    "version": 3
   },
   "file_extension": ".py",
   "mimetype": "text/x-python",
   "name": "python",
   "nbconvert_exporter": "python",
   "pygments_lexer": "ipython3",
   "version": "3.8.7"
  }
 },
 "nbformat": 4,
 "nbformat_minor": 5
}
